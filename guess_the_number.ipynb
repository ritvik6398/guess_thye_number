{
  "nbformat": 4,
  "nbformat_minor": 0,
  "metadata": {
    "colab": {
      "provenance": []
    },
    "kernelspec": {
      "name": "python3",
      "display_name": "Python 3"
    },
    "language_info": {
      "name": "python"
    }
  },
  "cells": [
    {
      "cell_type": "code",
      "execution_count": 4,
      "metadata": {
        "colab": {
          "base_uri": "https://localhost:8080/"
        },
        "id": "Q8oxAcNgw0NG",
        "outputId": "5ec24ba7-0fee-432b-8a66-1040ea9209a2"
      },
      "outputs": [
        {
          "output_type": "stream",
          "name": "stdout",
          "text": [
            "enter what level do u want to play \n",
            " 1. easy \n",
            " 2. medium \n",
            " 3. hard \n",
            " 3\n",
            "Guess the the number 50\n",
            "You guessed too low\n",
            "Guess the the number 60\n",
            "You guessed too low\n",
            "Guess the the number 100\n",
            "Your guessed too high\n",
            "Guess the the number 80\n",
            "You guessed too low\n",
            "Guess the the number 90\n",
            "Your guessed too high\n",
            "You have used all the chances \n"
          ]
        }
      ],
      "source": [
        "import random\n",
        "rand = random.randint(1,100)\n",
        "n=int(input(\"enter what level do u want to play \\n 1. easy \\n 2. medium \\n 3. hard \\n \"))\n",
        "if n==1:\n",
        "  guess = 20\n",
        "elif n == 2:\n",
        "  guess = 10\n",
        "elif n== 3:\n",
        "  guess = 5\n",
        "else:\n",
        "  print('Your entered wrong number : ')\n",
        "while guess !=0:\n",
        "\n",
        "  g=int(input(\"Guess the the number \"))\n",
        "  if g < rand:\n",
        "    print('You guessed too low')\n",
        "  elif g > rand:\n",
        "    print('Your guessed too high')\n",
        "  else:\n",
        "    print('Your guessed right')\n",
        "    break\n",
        "  guess-=1\n",
        "\n",
        "else:\n",
        "  print('You have used all the chances ')"
      ]
    }
  ]
}